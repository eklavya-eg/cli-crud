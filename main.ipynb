{
 "cells": [
  {
   "cell_type": "code",
   "execution_count": 5,
   "metadata": {},
   "outputs": [
    {
     "name": "stdout",
     "output_type": "stream",
     "text": [
      "https://api.openweathermap.org/data/2.5/weather?q=New Delhi&appid=da4e3d8d3c5191e1c9b1cd7c1c09eb68\n",
      "{'coord': {'lon': 77.2311, 'lat': 28.6128}, 'weather': [{'id': 701, 'main': 'Mist', 'description': 'mist', 'icon': '50d'}], 'base': 'stations', 'main': {'temp': 300.24, 'feels_like': 304.6, 'temp_min': 300.24, 'temp_max': 300.24, 'pressure': 999, 'humidity': 94, 'sea_level': 999, 'grnd_level': 975}, 'visibility': 4500, 'wind': {'speed': 4.63, 'deg': 360}, 'clouds': {'all': 100}, 'dt': 1726137646, 'sys': {'type': 1, 'id': 9165, 'country': 'IN', 'sunrise': 1726101284, 'sunset': 1726146014}, 'timezone': 19800, 'id': 1261481, 'name': 'New Delhi', 'cod': 200}\n"
     ]
    }
   ],
   "source": [
    "import requests\n",
    "\n",
    "# Replace with your own API key\n",
    "city_name = \"New Delhi\"\n",
    "API_KEY = 'da4e3d8d3c5191e1c9b1cd7c1c09eb68'\n",
    "BASE_URL = f'https://api.openweathermap.org/data/2.5/weather?q={city_name}&appid={API_KEY}'\n",
    "print(BASE_URL)\n",
    "\n",
    "response = requests.get(BASE_URL)\n",
    "if response.status_code == 200:\n",
    "    data = response.json()\n",
    "    print(data)\n"
   ]
  },
  {
   "cell_type": "code",
   "execution_count": 13,
   "metadata": {},
   "outputs": [
    {
     "name": "stdout",
     "output_type": "stream",
     "text": [
      "coord {'lon': 77.2311, 'lat': 28.6128}\n",
      "weather [{'id': 701, 'main': 'Mist', 'description': 'mist', 'icon': '50d'}]\n",
      "base stations\n",
      "main {'temp': 300.24, 'feels_like': 304.6, 'temp_min': 300.24, 'temp_max': 300.24, 'pressure': 999, 'humidity': 94, 'sea_level': 999, 'grnd_level': 975}\n",
      "visibility 4500\n",
      "wind {'speed': 4.63, 'deg': 360}\n",
      "clouds {'all': 100}\n",
      "dt 1726137646\n",
      "sys {'type': 1, 'id': 9165, 'country': 'IN', 'sunrise': 1726101284, 'sunset': 1726146014}\n",
      "timezone 19800\n",
      "id 1261481\n",
      "name New Delhi\n",
      "cod 200\n"
     ]
    }
   ],
   "source": [
    "for (i, j) in zip(data.keys(), data.values()):\n",
    "    print(i, j)"
   ]
  },
  {
   "cell_type": "code",
   "execution_count": 4,
   "metadata": {},
   "outputs": [
    {
     "name": "stdout",
     "output_type": "stream",
     "text": [
      "Hashed password: b'$2b$12$HX/fvTbX4cGrB9x143uIge2Ly1cUETFj5AF8M9ImSf67bJKp.W2Ra'\n"
     ]
    }
   ],
   "source": [
    "import bcrypt\n",
    "\n",
    "# Hash a password\n",
    "password = \"abcd\".encode('utf-8')  # Convert to bytes\n",
    "hashed_password = bcrypt.hashpw(password, bcrypt.gensalt())\n",
    "\n",
    "print(\"Hashed password:\", hashed_password)\n"
   ]
  },
  {
   "cell_type": "code",
   "execution_count": 1,
   "metadata": {},
   "outputs": [
    {
     "name": "stdout",
     "output_type": "stream",
     "text": [
      "yes\n"
     ]
    }
   ],
   "source": [
    "a = (True, False)\n",
    "if (True,False)==a:\n",
    "    print(\"yes\")"
   ]
  },
  {
   "cell_type": "code",
   "execution_count": null,
   "metadata": {},
   "outputs": [],
   "source": []
  }
 ],
 "metadata": {
  "kernelspec": {
   "display_name": "Python 3",
   "language": "python",
   "name": "python3"
  },
  "language_info": {
   "codemirror_mode": {
    "name": "ipython",
    "version": 3
   },
   "file_extension": ".py",
   "mimetype": "text/x-python",
   "name": "python",
   "nbconvert_exporter": "python",
   "pygments_lexer": "ipython3",
   "version": "3.11.9"
  }
 },
 "nbformat": 4,
 "nbformat_minor": 2
}
